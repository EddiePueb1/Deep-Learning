{
 "cells": [
  {
   "cell_type": "markdown",
   "metadata": {},
   "source": [
    "## Load Spot quadruped with arm"
   ]
  },
  {
   "cell_type": "code",
   "execution_count": 10,
   "metadata": {},
   "outputs": [
    {
     "name": "stderr",
     "output_type": "stream",
     "text": [
      "/home/ubuntu/final/Deep-Learning/DL/lib/python3.12/site-packages/gymnasium/wrappers/rendering.py:283: UserWarning: \u001b[33mWARN: Overwriting existing videos at /home/ubuntu/final/Deep-Learning/videos folder (try specifying a different `video_folder` for the `RecordVideo` wrapper if this is not desired)\u001b[0m\n",
      "  logger.warn(\n"
     ]
    }
   ],
   "source": [
    "# load model\n",
    "import gymnasium\n",
    "import numpy as np\n",
    "from IPython import display\n",
    "from gymnasium.wrappers import RecordEpisodeStatistics, RecordVideo\n",
    "\n",
    "env = gymnasium.make(\n",
    "    \"Ant-v5\",\n",
    "    xml_file=\"./robots/boston_dynamics_spot/scene_arm.xml\",\n",
    "    forward_reward_weight=1,  # kept the same as the 'Ant' environment\n",
    "    ctrl_cost_weight=0.05,  # changed because of the stronger motors of `Go1`\n",
    "    contact_cost_weight=5e-4,  # kept the same as the 'Ant' environment\n",
    "    healthy_reward=1,  # kept the same as the 'Ant' environment\n",
    "    main_body=1,  # represents the \"trunk\" of the `Go1` robot\n",
    "    healthy_z_range=(0.195, 0.95),\n",
    "    include_cfrc_ext_in_observation=True,\n",
    "    exclude_current_positions_from_observation=False,\n",
    "    reset_noise_scale=0.1,\n",
    "    frame_skip=25,\n",
    "    max_episode_steps=1000,\n",
    "    render_mode=\"rgb_array\"\n",
    ")\n",
    "\n",
    "env = RecordVideo(env, video_folder=\"./videos\", episode_trigger=lambda episode_id: True)\n",
    "env = RecordEpisodeStatistics(env)"
   ]
  },
  {
   "cell_type": "code",
   "execution_count": 11,
   "metadata": {},
   "outputs": [],
   "source": [
    "import os \n",
    "os.environ[\"MUJOCO_GL\"] = \"egl\""
   ]
  },
  {
   "cell_type": "code",
   "execution_count": 12,
   "metadata": {},
   "outputs": [],
   "source": [
    "import gymnasium as gym\n",
    "import numpy as np\n",
    "from gymnasium import spaces\n",
    "from gymnasium.wrappers import RecordEpisodeStatistics, RecordVideo\n",
    "import mujoco\n",
    "\n",
    "class LocoManipulationEnv(gym.Env):\n",
    "    metadata = {\n",
    "        \"render_modes\": [\"human\", \"rgb_array\"],\n",
    "        \"render_fps\": 30\n",
    "    }\n",
    "\n",
    "    def __init__(self, render_mode=None, reward_fn=None):\n",
    "        super().__init__()\n",
    "        self.render_mode = render_mode\n",
    "        self.reward_fn = reward_fn if reward_fn is not None else self.default_reward\n",
    "\n",
    "        # Load MuJoCo model\n",
    "        self.model = mujoco.MjModel.from_xml_path(\"./robots/boston_dynamics_spot/scene_arm.xml\")\n",
    "        self.data = mujoco.MjData(self.model)\n",
    "\n",
    "        # Renderer for rgb_array mode\n",
    "        if render_mode == \"rgb_array\":\n",
    "            self.frame_width = 640\n",
    "            self.frame_height = 480\n",
    "            self._renderer = mujoco.Renderer(self.model, width=self.frame_width, height=self.frame_height)\n",
    "\n",
    "        self.nq = self.model.nq\n",
    "        self.nv = self.model.nv\n",
    "        self.nu = self.model.nu\n",
    "\n",
    "        self.observation_space = spaces.Box(\n",
    "            low=-np.inf,\n",
    "            high=np.inf,\n",
    "            shape=(self.nq + self.nv,),\n",
    "            dtype=np.float32\n",
    "        )\n",
    "\n",
    "        self.action_space = spaces.Box(\n",
    "            low=self.model.actuator_ctrlrange[:, 0],\n",
    "            high=self.model.actuator_ctrlrange[:, 1],\n",
    "            dtype=np.float32\n",
    "        )\n",
    "\n",
    "    def default_reward(self, obs, action):\n",
    "        return -np.linalg.norm(obs)\n",
    "\n",
    "    def reset(self, seed=None, options=None):\n",
    "        super().reset(seed=seed)\n",
    "        mujoco.mj_resetData(self.model, self.data)\n",
    "\n",
    "        obs = np.concatenate([self.data.qpos, self.data.qvel]).astype(np.float32)\n",
    "        return obs, {}\n",
    "\n",
    "    def step(self, action):\n",
    "        self.data.ctrl[:] = action\n",
    "        mujoco.mj_step(self.model, self.data)\n",
    "\n",
    "        obs = np.concatenate([self.data.qpos, self.data.qvel]).astype(np.float32)\n",
    "        reward = self.reward_fn(obs, action)\n",
    "        terminated = False\n",
    "        truncated = False\n",
    "        return obs, reward, terminated, truncated, {}\n",
    "\n",
    "    def render(self):\n",
    "        if self.render_mode == \"rgb_array\":\n",
    "            self._renderer.update_scene(self.data)\n",
    "            return self._renderer.render()\n",
    "        elif self.render_mode == \"human\":\n",
    "            if not hasattr(self, \"viewer\"):\n",
    "                import mujoco.viewer\n",
    "                self.viewer = mujoco.viewer.launch_passive(self.model, self.data)\n",
    "            return None\n",
    "\n",
    "    def close(self):\n",
    "        if hasattr(self, \"_renderer\"):\n",
    "            self._renderer.close()\n",
    "        if hasattr(self, \"viewer\"):\n",
    "            self.viewer.close()"
   ]
  },
  {
   "cell_type": "code",
   "execution_count": 13,
   "metadata": {},
   "outputs": [],
   "source": [
    "\n",
    "reward_code = \"\"\"\n",
    "def reward_fn(obs, action):\n",
    "    # Example: move end-effector to a goal with smooth control\n",
    "    pos = obs[:3]  # Replace with correct index for end-effector\n",
    "    goal = np.array([0.3, 0.2, 0.1])\n",
    "    dist = np.linalg.norm(pos - goal)\n",
    "    energy = np.linalg.norm(action)\n",
    "    return -dist - 0.1 * energy\n",
    "\"\"\"\n",
    "\n",
    "local_vars = {}\n",
    "exec(reward_code, {\"np\": np}, local_vars)\n",
    "generated_reward_fn = local_vars[\"reward_fn\"]\n"
   ]
  },
  {
   "cell_type": "code",
   "execution_count": 14,
   "metadata": {},
   "outputs": [
    {
     "name": "stderr",
     "output_type": "stream",
     "text": [
      "/home/ubuntu/final/Deep-Learning/DL/lib/python3.12/site-packages/gymnasium/spaces/box.py:235: UserWarning: \u001b[33mWARN: Box low's precision lowered by casting to float32, current low.dtype=float64\u001b[0m\n",
      "  gym.logger.warn(\n",
      "/home/ubuntu/final/Deep-Learning/DL/lib/python3.12/site-packages/gymnasium/spaces/box.py:305: UserWarning: \u001b[33mWARN: Box high's precision lowered by casting to float32, current high.dtype=float64\u001b[0m\n",
      "  gym.logger.warn(\n"
     ]
    }
   ],
   "source": [
    "env = LocoManipulationEnv(render_mode=None, reward_fn=generated_reward_fn)\n",
    "# env = RecordVideo(env, video_folder=\"./videos\", episode_trigger=lambda episode_id: True)\n",
    "env = RecordEpisodeStatistics(env)\n"
   ]
  },
  {
   "cell_type": "markdown",
   "metadata": {},
   "source": [
    "## Episode loop"
   ]
  },
  {
   "cell_type": "code",
   "execution_count": 15,
   "metadata": {},
   "outputs": [
    {
     "name": "stdout",
     "output_type": "stream",
     "text": [
      "Starting episode 1\n",
      "Episode 1 ended with reward -234.77\n",
      "Starting episode 2\n",
      "Episode 2 ended with reward -236.23\n",
      "Starting episode 3\n",
      "Episode 3 ended with reward -235.05\n",
      "Starting episode 4\n",
      "Episode 4 ended with reward -236.40\n"
     ]
    }
   ],
   "source": [
    "for ep in range(4):\n",
    "    print(f\"Starting episode {ep + 1}\")\n",
    "    obs, _ = env.reset()\n",
    "    done = False\n",
    "    reward_total = 0\n",
    "    step_count = 0\n",
    "\n",
    "    while not done and step_count < 200:\n",
    "        action = env.action_space.sample()\n",
    "        obs, reward, terminated, truncated, _ = env.step(action)\n",
    "        env.render()\n",
    "        reward_total += reward\n",
    "        done = terminated or truncated\n",
    "        step_count += 1\n",
    "\n",
    "    print(f\"Episode {ep + 1} ended with reward {reward_total:.2f}\")"
   ]
  },
  {
   "cell_type": "code",
   "execution_count": 16,
   "metadata": {},
   "outputs": [],
   "source": [
    "import torch as t\n",
    "import torch.nn as nn\n",
    "import torch.nn.functional as F\n",
    "from torch.distributions import Normal\n",
    "\n",
    "class TruncatedNormal:\n",
    "  def __init__(self, mean, std):\n",
    "    self.normal = Normal(mean, std)\n",
    "\n",
    "  def sample(self):\n",
    "    return t.clamp(self.normal.rsample(), -1.0, 1.0)\n",
    "  \n",
    "def weight_init(m):\n",
    "  if isinstance(m, nn.Linear):\n",
    "    nn.init.xavier_uniform_(m.weight)\n",
    "    nn.init.constant_(m.bias, 0)\n",
    "\n",
    "class Actor(nn.Module):\n",
    "  def __init__(self, obs_shape, action_shape, hidden_dim=128, std=0.1):\n",
    "    super().__init__()\n",
    "    self.std = std\n",
    "\n",
    "    self.policy = nn.Sequential(\n",
    "      nn.Linear(obs_shape[0], hidden_dim),\n",
    "      nn.ReLU(),\n",
    "      nn.Linear(hidden_dim, hidden_dim),\n",
    "      nn.ReLU(),\n",
    "      nn.Linear(hidden_dim, action_shape[0])\n",
    "    )\n",
    "\n",
    "    self.apply(weight_init)\n",
    "\n",
    "  def forward(self, obs):\n",
    "    mu = t.tanh(self.policy(obs))\n",
    "    std = t.ones_like(mu) * self.std\n",
    "    return TruncatedNormal(mu,std)\n",
    "\n",
    "    "
   ]
  },
  {
   "cell_type": "code",
   "execution_count": 21,
   "metadata": {},
   "outputs": [
    {
     "name": "stdout",
     "output_type": "stream",
     "text": [
      "Episode 1 reward: -202.54\n",
      "Episode 2 reward: -202.44\n",
      "Episode 3 reward: -194.59\n",
      "Episode 4 reward: -203.47\n",
      "Episode 5 reward: -199.25\n",
      "Episode 6 reward: -203.39\n",
      "Episode 7 reward: -197.70\n",
      "Episode 8 reward: -197.34\n",
      "Episode 9 reward: -204.56\n",
      "Episode 10 reward: -199.37\n"
     ]
    },
    {
     "data": {
      "image/png": "[encoded data removed]",
      "text/plain": [
       "<Figure size 640x480 with 1 Axes>"
      ]
     },
     "metadata": {},
     "output_type": "display_data"
    }
   ],
   "source": [
    "import matplotlib.pyplot as plt \n",
    "\n",
    "obs_shape = (env.observation_space.shape[0],)\n",
    "action_shape = (env.action_space.shape[0],)\n",
    "\n",
    "actor = Actor(obs_shape, action_shape)\n",
    "actor.eval()\n",
    "\n",
    "frames = []\n",
    "\n",
    "for ep in range(10):\n",
    "  obs, _ = env.reset()\n",
    "  done = False\n",
    "  reward_total = 0\n",
    "  step_count = 0\n",
    "  frames = []\n",
    "  rewards = []\n",
    "\n",
    "  while not done and step_count <= 200:\n",
    "    obs_tensor = t.tensor(obs, dtype=t.float32).unsqueeze(0)\n",
    "    dist = actor(obs_tensor)\n",
    "    action = dist.sample().squeeze(0).detach().numpy()\n",
    "\n",
    "    obs, reward, terminated, truncated, _ = env.step(action)\n",
    "    rewards.append(reward)\n",
    "    frame = env.render()\n",
    "    if frame is not None:\n",
    "      frames.append(frame)\n",
    "    \n",
    "    reward_total += reward\n",
    "    done = terminated or truncated\n",
    "    step_count += 1 \n",
    "\n",
    "  print(f\"Episode {ep + 1} reward: {reward_total:.2f}\")\n",
    "plt.plot(rewards, label=f\"episode {ep + 1}\")\n",
    "import imageio\n",
    "imageio.mimsave(f\"episode_{ep+1}.mp4\", frames, fps=30)\n",
    "\n"
   ]
  },
  {
   "cell_type": "code",
   "execution_count": null,
   "metadata": {},
   "outputs": [],
   "source": []
  }
 ],
 "metadata": {
  "kernelspec": {
   "display_name": "DL",
   "language": "python",
   "name": "python3"
  },
  "language_info": {
   "codemirror_mode": {
    "name": "ipython",
    "version": 3
   },
   "file_extension": ".py",
   "mimetype": "text/x-python",
   "name": "python",
   "nbconvert_exporter": "python",
   "pygments_lexer": "ipython3",
   "version": "3.12.6"
  }
 },
 "nbformat": 4,
 "nbformat_minor": 2
}
