{
 "cells": [
  {
   "cell_type": "markdown",
   "metadata": {},
   "source": [
    "## Load Spot quadruped with arm"
   ]
  },
  {
   "cell_type": "code",
   "execution_count": 16,
   "metadata": {},
   "outputs": [
    {
     "name": "stderr",
     "output_type": "stream",
     "text": [
      "/Users/nkayslaptop/anaconda3/envs/gpt-reward/lib/python3.10/site-packages/gymnasium/wrappers/rendering.py:416: UserWarning: \u001b[33mWARN: Unable to save last video! Did you call close()?\u001b[0m\n",
      "  logger.warn(\"Unable to save last video! Did you call close()?\")\n",
      "/Users/nkayslaptop/anaconda3/envs/gpt-reward/lib/python3.10/site-packages/gymnasium/wrappers/rendering.py:283: UserWarning: \u001b[33mWARN: Overwriting existing videos at /Users/nkayslaptop/Desktop/Master's Program/Reinforcement learning/Final Project/GPT-Reward/videos folder (try specifying a different `video_folder` for the `RecordVideo` wrapper if this is not desired)\u001b[0m\n",
      "  logger.warn(\n"
     ]
    }
   ],
   "source": [
    "# load model\n",
    "import gymnasium\n",
    "import numpy as np\n",
    "from IPython import display\n",
    "from gymnasium.wrappers import RecordEpisodeStatistics, RecordVideo\n",
    "\n",
    "env = gymnasium.make(\n",
    "    \"Ant-v5\",\n",
    "    xml_file=\"./robots/boston_dynamics_spot/scene_arm.xml\",\n",
    "    forward_reward_weight=1,  # kept the same as the 'Ant' environment\n",
    "    ctrl_cost_weight=0.05,  # changed because of the stronger motors of `Go1`\n",
    "    contact_cost_weight=5e-4,  # kept the same as the 'Ant' environment\n",
    "    healthy_reward=1,  # kept the same as the 'Ant' environment\n",
    "    main_body=1,  # represents the \"trunk\" of the `Go1` robot\n",
    "    healthy_z_range=(0.195, 0.95),\n",
    "    include_cfrc_ext_in_observation=True,\n",
    "    exclude_current_positions_from_observation=False,\n",
    "    reset_noise_scale=0.1,\n",
    "    frame_skip=25,\n",
    "    max_episode_steps=1000,\n",
    "    render_mode=\"rgb_array\"\n",
    ")\n",
    "\n",
    "env = RecordVideo(env, video_folder=\"./videos\", episode_trigger=lambda episode_id: True)\n",
    "env = RecordEpisodeStatistics(env)"
   ]
  },
  {
   "cell_type": "code",
   "execution_count": 6,
   "metadata": {},
   "outputs": [
    {
     "name": "stderr",
     "output_type": "stream",
     "text": [
      "/Users/nkayslaptop/anaconda3/envs/gpt-reward/lib/python3.10/site-packages/gymnasium/envs/registration.py:644: UserWarning: \u001b[33mWARN: Overriding environment LocoManipulation-v0 already in registry.\u001b[0m\n",
      "  logger.warn(f\"Overriding environment {new_spec.id} already in registry.\")\n",
      "/Users/nkayslaptop/anaconda3/envs/gpt-reward/lib/python3.10/site-packages/gymnasium/spaces/box.py:235: UserWarning: \u001b[33mWARN: Box low's precision lowered by casting to float32, current low.dtype=float64\u001b[0m\n",
      "  gym.logger.warn(\n",
      "/Users/nkayslaptop/anaconda3/envs/gpt-reward/lib/python3.10/site-packages/gymnasium/spaces/box.py:305: UserWarning: \u001b[33mWARN: Box high's precision lowered by casting to float32, current high.dtype=float64\u001b[0m\n",
      "  gym.logger.warn(\n",
      "/Users/nkayslaptop/anaconda3/envs/gpt-reward/lib/python3.10/site-packages/gymnasium/wrappers/rendering.py:283: UserWarning: \u001b[33mWARN: Overwriting existing videos at /Users/nkayslaptop/Desktop/Master's Program/Reinforcement learning/Final Project/GPT-Reward/videos folder (try specifying a different `video_folder` for the `RecordVideo` wrapper if this is not desired)\u001b[0m\n",
      "  logger.warn(\n"
     ]
    }
   ],
   "source": [
    "import gymnasium as gym\n",
    "import numpy as np\n",
    "from gymnasium import spaces\n",
    "from gymnasium.wrappers import RecordEpisodeStatistics, RecordVideo\n",
    "import mujoco\n",
    "\n",
    "class LocoManipulationEnv(gym.Env):\n",
    "    metadata = {\n",
    "        \"render_modes\": [\"human\", \"rgb_array\"],\n",
    "        \"render_fps\": 30\n",
    "    }\n",
    "\n",
    "    def __init__(self, render_mode=None):\n",
    "        super().__init__()\n",
    "        self.render_mode = render_mode\n",
    "\n",
    "        # Load MuJoCo model\n",
    "        self.model = mujoco.MjModel.from_xml_path(\"./robots/boston_dynamics_spot/scene_arm.xml\")\n",
    "        self.data = mujoco.MjData(self.model)\n",
    "\n",
    "        # Setup render context for offscreen rendering\n",
    "        if render_mode == \"rgb_array\":\n",
    "            self.frame_width = 640\n",
    "            self.frame_height = 480\n",
    "            self._renderer = mujoco.Renderer(self.model, width=self.frame_width, height=self.frame_height)\n",
    "\n",
    "        self.nq = self.model.nq\n",
    "        self.nv = self.model.nv\n",
    "        self.nu = self.model.nu\n",
    "\n",
    "        self.observation_space = spaces.Box(\n",
    "            low=-np.inf,\n",
    "            high=np.inf,\n",
    "            shape=(self.nq + self.nv,),\n",
    "            dtype=np.float32\n",
    "        )\n",
    "\n",
    "        self.action_space = spaces.Box(\n",
    "            low=self.model.actuator_ctrlrange[:, 0],\n",
    "            high=self.model.actuator_ctrlrange[:, 1],\n",
    "            dtype=np.float32\n",
    "        )\n",
    "\n",
    "    def reset(self, seed=None, options=None):\n",
    "        super().reset(seed=seed)\n",
    "        mujoco.mj_resetData(self.model, self.data)\n",
    "\n",
    "        obs = np.concatenate([self.data.qpos, self.data.qvel]).astype(np.float32)\n",
    "        return obs, {}\n",
    "\n",
    "    def step(self, action):\n",
    "        self.data.ctrl[:] = action\n",
    "        mujoco.mj_step(self.model, self.data)\n",
    "\n",
    "        obs = np.concatenate([self.data.qpos, self.data.qvel]).astype(np.float32)\n",
    "        reward = -np.linalg.norm(obs)\n",
    "        terminated = False\n",
    "        truncated = False\n",
    "        return obs, reward, terminated, truncated, {}\n",
    "\n",
    "    def render(self):\n",
    "        if self.render_mode == \"rgb_array\":\n",
    "            self._renderer.update_scene(self.data)\n",
    "            return self._renderer.render()\n",
    "        elif self.render_mode == \"human\":\n",
    "            if not hasattr(self, \"viewer\"):\n",
    "                import mujoco.viewer\n",
    "                self.viewer = mujoco.viewer.launch_passive(self.model, self.data)\n",
    "            # Human rendering happens in the background viewer\n",
    "            return None\n",
    "\n",
    "    def close(self):\n",
    "        if hasattr(self, \"_renderer\"):\n",
    "            self._renderer.close()\n",
    "        if hasattr(self, \"viewer\"):\n",
    "            self.viewer.close()\n",
    "    \n",
    "gym.register(\n",
    "    id='LocoManipulation-v0',\n",
    "    entry_point=LocoManipulationEnv,\n",
    "    kwargs={\"render_mode\": \"rgb_array\"}\n",
    ")\n",
    "\n",
    "env = gymnasium.make(\n",
    "    \"LocoManipulation-v0\",\n",
    "    render_mode=\"rgb_array\"\n",
    ")\n",
    "env = RecordVideo(env, video_folder=\"./videos\", episode_trigger=lambda episode_id: True)\n",
    "env = RecordEpisodeStatistics(env)"
   ]
  },
  {
   "cell_type": "code",
   "execution_count": 13,
   "metadata": {},
   "outputs": [
    {
     "data": {
      "text/plain": [
       "(array([-0.785398, -0.898845, -2.7929  , -0.785398, -0.898845, -2.7929  ,\n",
       "        -0.785398, -0.898845, -2.7929  , -0.785398, -0.898845, -2.7929  ,\n",
       "        -2.61799 , -3.14159 ,  0.      , -2.79253 , -1.8326  , -2.87979 ,\n",
       "        -1.57    ], dtype=float32),\n",
       " array([ 0.785398,  2.29511 , -0.254402,  0.785398,  2.24363 , -0.255648,\n",
       "         0.785398,  2.29511 , -0.247067,  0.785398,  2.29511 , -0.248282,\n",
       "         3.14159 ,  0.523599,  3.14159 ,  2.79253 ,  1.8326  ,  2.87979 ,\n",
       "         0.      ], dtype=float32))"
      ]
     },
     "execution_count": 13,
     "metadata": {},
     "output_type": "execute_result"
    }
   ],
   "source": [
    "env.action_space.low, env.action_space.high"
   ]
  },
  {
   "cell_type": "markdown",
   "metadata": {},
   "source": [
    "## Episode loop"
   ]
  },
  {
   "cell_type": "code",
   "execution_count": 17,
   "metadata": {},
   "outputs": [
    {
     "name": "stdout",
     "output_type": "stream",
     "text": [
      "Starting episode 1\n",
      "Episode 1 ended with reward -0.94\n",
      "Starting episode 2\n",
      "Episode 2 ended with reward -182.30\n",
      "Starting episode 3\n",
      "Episode 3 ended with reward -3.76\n",
      "Starting episode 4\n",
      "Episode 4 ended with reward -184.43\n"
     ]
    }
   ],
   "source": [
    "for ep in range(4):\n",
    "    print(f\"Starting episode {ep + 1}\")\n",
    "    obs, _ = env.reset()\n",
    "    done = False\n",
    "    reward_total = 0\n",
    "    step_count = 0\n",
    "\n",
    "    while not done and step_count < 200:\n",
    "        action = env.action_space.sample()\n",
    "        obs, reward, terminated, truncated, _ = env.step(action)\n",
    "        env.render()\n",
    "        reward_total += reward\n",
    "        done = terminated or truncated\n",
    "        step_count += 1\n",
    "\n",
    "    print(f\"Episode {ep + 1} ended with reward {reward_total:.2f}\")"
   ]
  },
  {
   "cell_type": "code",
   "execution_count": null,
   "metadata": {},
   "outputs": [],
   "source": [
    "import torch as t\n",
    "import torch.nn as nn\n",
    "\n",
    "class Actor(nn.Module):\n",
    "    def __init__(self, obs_shape, action_shape, hidden_dim, std=0.1):\n",
    "        super().__init__()\n",
    "\n",
    "        self.std = std\n",
    "        self.policy = nn.Sequential(nn.Linear(obs_shape[0], hidden_dim),\n",
    "                                    nn.ReLU(inplace=True),\n",
    "                                    nn.Linear(hidden_dim, hidden_dim),\n",
    "                                    nn.ReLU(inplace=True),\n",
    "                                    nn.Linear(hidden_dim, action_shape[0]))\n",
    "\n",
    "        self.apply(utils.weight_init)\n",
    "\n",
    "    def forward(self, obs):\n",
    "        mu = self.policy(obs)\n",
    "        mu = torch.tanh(mu)\n",
    "        std = torch.ones_like(mu) * self.std\n",
    "\n",
    "        dist = utils.TruncatedNormal(mu, std)\n",
    "        return dist\n"
   ]
  },
  {
   "cell_type": "code",
   "execution_count": 10,
   "metadata": {},
   "outputs": [
    {
     "data": {
      "text/plain": [
       "array([1, 2, 3, 4])"
      ]
     },
     "execution_count": 10,
     "metadata": {},
     "output_type": "execute_result"
    }
   ],
   "source": [
    "np.concatenate([[1,2], [3,4]])"
   ]
  },
  {
   "cell_type": "code",
   "execution_count": null,
   "metadata": {},
   "outputs": [],
   "source": []
  }
 ],
 "metadata": {
  "kernelspec": {
   "display_name": "gpt-reward",
   "language": "python",
   "name": "python3"
  },
  "language_info": {
   "codemirror_mode": {
    "name": "ipython",
    "version": 3
   },
   "file_extension": ".py",
   "mimetype": "text/x-python",
   "name": "python",
   "nbconvert_exporter": "python",
   "pygments_lexer": "ipython3",
   "version": "3.10.13"
  }
 },
 "nbformat": 4,
 "nbformat_minor": 2
}
